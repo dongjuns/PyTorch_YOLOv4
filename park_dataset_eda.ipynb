{
 "cells": [
  {
   "cell_type": "code",
   "execution_count": 1,
   "id": "6a17621c",
   "metadata": {},
   "outputs": [],
   "source": [
    "#!pip install pyyaml"
   ]
  },
  {
   "cell_type": "code",
   "execution_count": 2,
   "id": "a783a1d1",
   "metadata": {},
   "outputs": [],
   "source": [
    "import json\n",
    "import os\n",
    "import glob\n",
    "import shutil\n",
    "import yaml"
   ]
  },
  {
   "cell_type": "code",
   "execution_count": 3,
   "id": "83ee9b8a",
   "metadata": {},
   "outputs": [],
   "source": [
    "dataset_path = \"객체/\"\n",
    "save_path = \"park_objects/\"\n",
    "images_save_path = save_path + 'images/'\n",
    "labels_save_path = save_path + 'labels/'\n",
    "jsons_save_path = save_path + 'jsons/'"
   ]
  },
  {
   "cell_type": "code",
   "execution_count": 10,
   "id": "613ecf1b",
   "metadata": {},
   "outputs": [],
   "source": [
    "# os.mkdir(save_path)\n",
    "# os.mkdir(images_save_path)\n",
    "# os.mkdir(labels_save_path)\n",
    "# os.mkdir(jsons_save_path)"
   ]
  },
  {
   "cell_type": "code",
   "execution_count": 4,
   "id": "bf6bf675",
   "metadata": {},
   "outputs": [],
   "source": [
    "directoryNames = os.listdir(dataset_path)"
   ]
  },
  {
   "cell_type": "code",
   "execution_count": null,
   "id": "5b425251",
   "metadata": {},
   "outputs": [],
   "source": [
    "# ._디렉토리 지우기\n",
    "#rm -rf ._*"
   ]
  },
  {
   "cell_type": "code",
   "execution_count": 10,
   "id": "b177b2d5",
   "metadata": {},
   "outputs": [],
   "source": [
    "park_jsons = os.listdir('park_objects/jsons/')"
   ]
  },
  {
   "cell_type": "markdown",
   "id": "0ed60fa6",
   "metadata": {},
   "source": [
    "### Image resolution, width and height"
   ]
  },
  {
   "cell_type": "code",
   "execution_count": 21,
   "id": "c024575c",
   "metadata": {},
   "outputs": [],
   "source": [
    "for park_json_path in park_jsons:\n",
    "    with open(jsons_save_path + park_json_path) as f:\n",
    "        park_json = json.load(f)\n",
    "        #print(park_json)\n",
    "        #print(park_json.keys())\n",
    "        height = park_json['images']['height']\n",
    "        width = park_json['images']['width']\n",
    "        if height != 1080 and width != 1920:\n",
    "            print(height, width)\n",
    "            print('not FHD')"
   ]
  },
  {
   "cell_type": "code",
   "execution_count": null,
   "id": "9f7b2ecc",
   "metadata": {},
   "outputs": [],
   "source": []
  },
  {
   "cell_type": "markdown",
   "id": "8ae3c2d5",
   "metadata": {},
   "source": [
    "### Label name list"
   ]
  },
  {
   "cell_type": "code",
   "execution_count": null,
   "id": "d28e14b3",
   "metadata": {},
   "outputs": [],
   "source": [
    "object_set = set()\n",
    "\n",
    "for park_json_path in park_jsons:\n",
    "    with open(jsons_save_path + park_json_path) as f:\n",
    "        park_json = json.load(f)\n",
    "    for label in park_json['category']:\n",
    "        object_set.add(label['object_class_name'])\n",
    "\n",
    "object_list = list(object_set)\n",
    "object_list.sort()\n",
    "print(object_list)\n",
    "len(object_list)"
   ]
  },
  {
   "cell_type": "code",
   "execution_count": null,
   "id": "6f2decf4",
   "metadata": {},
   "outputs": [],
   "source": [
    "object_list = ['banner', 'bench', 'fence', 'garbage_bag', \n",
    "               'park_headstone', 'park_info', 'park_pot', 'pet', \n",
    "               'rest_area', 'street_lamp', 'tent', 'toilet', 'trash_can']"
   ]
  },
  {
   "cell_type": "code",
   "execution_count": null,
   "id": "01768160",
   "metadata": {},
   "outputs": [],
   "source": []
  },
  {
   "cell_type": "markdown",
   "id": "c2c46120",
   "metadata": {},
   "source": [
    "### Class distribution"
   ]
  },
  {
   "cell_type": "code",
   "execution_count": 77,
   "id": "e9aacb11",
   "metadata": {},
   "outputs": [],
   "source": [
    "object_dict = {'banner': 0, 'bench': 0, 'fence': 0, 'garbage_bag': 0, \n",
    "               'park_headstone': 0, 'park_info': 0, 'park_pot': 0, 'pet': 0,\n",
    "               'rest_area': 0, 'street_lamp': 0, 'tent': 0, 'toilet': 0, 'trash_can': 0}"
   ]
  },
  {
   "cell_type": "code",
   "execution_count": 78,
   "id": "342b7aad",
   "metadata": {},
   "outputs": [],
   "source": [
    "for park_json_path in park_jsons:\n",
    "    with open(jsons_save_path + park_json_path) as f:\n",
    "        park_json = json.load(f)\n",
    "        #print(park_json)\n",
    "        #print(park_json.keys())\n",
    "        annotations = park_json['annotations']\n",
    "        for annotation in annotations:\n",
    "            if annotation['object_class'] not in object_dict.keys():\n",
    "                continue\n",
    "            elif annotation['object_class'] in object_dict.keys():\n",
    "                object_dict[annotation['object_class']] += 1"
   ]
  },
  {
   "cell_type": "code",
   "execution_count": 36,
   "id": "8fd6489b",
   "metadata": {
    "scrolled": true
   },
   "outputs": [
    {
     "name": "stdout",
     "output_type": "stream",
     "text": [
      "Collecting seaborn\n",
      "  Downloading seaborn-0.11.2-py3-none-any.whl (292 kB)\n",
      "\u001b[K     |████████████████████████████████| 292 kB 27.6 MB/s eta 0:00:01\n",
      "\u001b[?25hCollecting scipy>=1.0\n",
      "  Using cached scipy-1.5.4-cp36-cp36m-manylinux1_x86_64.whl (25.9 MB)\n",
      "Collecting pandas>=0.23\n",
      "  Using cached pandas-1.1.5-cp36-cp36m-manylinux1_x86_64.whl (9.5 MB)\n",
      "Requirement already satisfied: numpy>=1.15 in /home/june/anaconda3/envs/yolov4/lib/python3.6/site-packages (from seaborn) (1.17.0)\n",
      "Requirement already satisfied: matplotlib>=2.2 in /home/june/anaconda3/envs/yolov4/lib/python3.6/site-packages (from seaborn) (3.3.4)\n",
      "Requirement already satisfied: kiwisolver>=1.0.1 in /home/june/anaconda3/envs/yolov4/lib/python3.6/site-packages (from matplotlib>=2.2->seaborn) (1.3.1)\n",
      "Requirement already satisfied: python-dateutil>=2.1 in /home/june/anaconda3/envs/yolov4/lib/python3.6/site-packages (from matplotlib>=2.2->seaborn) (2.8.2)\n",
      "Requirement already satisfied: pillow>=6.2.0 in /home/june/anaconda3/envs/yolov4/lib/python3.6/site-packages (from matplotlib>=2.2->seaborn) (8.4.0)\n",
      "Requirement already satisfied: pyparsing!=2.0.4,!=2.1.2,!=2.1.6,>=2.0.3 in /home/june/anaconda3/envs/yolov4/lib/python3.6/site-packages (from matplotlib>=2.2->seaborn) (3.0.6)\n",
      "Requirement already satisfied: cycler>=0.10 in /home/june/anaconda3/envs/yolov4/lib/python3.6/site-packages (from matplotlib>=2.2->seaborn) (0.11.0)\n",
      "Collecting pytz>=2017.2\n",
      "  Downloading pytz-2021.3-py2.py3-none-any.whl (503 kB)\n",
      "\u001b[K     |████████████████████████████████| 503 kB 88.8 MB/s eta 0:00:01\n",
      "\u001b[?25hRequirement already satisfied: six>=1.5 in /home/june/anaconda3/envs/yolov4/lib/python3.6/site-packages (from python-dateutil>=2.1->matplotlib>=2.2->seaborn) (1.16.0)\n",
      "Installing collected packages: pytz, scipy, pandas, seaborn\n",
      "Successfully installed pandas-1.1.5 pytz-2021.3 scipy-1.5.4 seaborn-0.11.2\n"
     ]
    }
   ],
   "source": [
    "# !pip install seaborn"
   ]
  },
  {
   "cell_type": "code",
   "execution_count": 80,
   "id": "9edcc9d4",
   "metadata": {},
   "outputs": [
    {
     "data": {
      "text/plain": [
       "{'banner': 1769,\n",
       " 'bench': 4084,\n",
       " 'fence': 2800,\n",
       " 'garbage_bag': 1234,\n",
       " 'park_headstone': 1498,\n",
       " 'park_info': 1999,\n",
       " 'park_pot': 2498,\n",
       " 'pet': 1173,\n",
       " 'rest_area': 1209,\n",
       " 'street_lamp': 2582,\n",
       " 'tent': 1897,\n",
       " 'toilet': 951,\n",
       " 'trash_can': 1650}"
      ]
     },
     "execution_count": 80,
     "metadata": {},
     "output_type": "execute_result"
    }
   ],
   "source": [
    "object_dict"
   ]
  },
  {
   "cell_type": "code",
   "execution_count": 81,
   "id": "c89108ba",
   "metadata": {},
   "outputs": [],
   "source": [
    "import operator"
   ]
  },
  {
   "cell_type": "code",
   "execution_count": 82,
   "id": "383672a2",
   "metadata": {},
   "outputs": [],
   "source": [
    "sorted_object_dict = dict(sorted(object_dict.items(), key=operator.itemgetter(1)))"
   ]
  },
  {
   "cell_type": "code",
   "execution_count": 83,
   "id": "52a61ec5",
   "metadata": {},
   "outputs": [
    {
     "name": "stdout",
     "output_type": "stream",
     "text": [
      "{'toilet': 951, 'pet': 1173, 'rest_area': 1209, 'garbage_bag': 1234, 'park_headstone': 1498, 'trash_can': 1650, 'banner': 1769, 'tent': 1897, 'park_info': 1999, 'park_pot': 2498, 'street_lamp': 2582, 'fence': 2800, 'bench': 4084}\n"
     ]
    }
   ],
   "source": [
    "print(sorted_object_dict)"
   ]
  },
  {
   "cell_type": "code",
   "execution_count": 84,
   "id": "5540c4fa",
   "metadata": {},
   "outputs": [],
   "source": [
    "import seaborn as sns"
   ]
  },
  {
   "cell_type": "code",
   "execution_count": 85,
   "id": "50822701",
   "metadata": {},
   "outputs": [
    {
     "data": {
      "text/plain": [
       "<AxesSubplot:>"
      ]
     },
     "execution_count": 85,
     "metadata": {},
     "output_type": "execute_result"
    },
    {
     "data": {
      "image/png": "[encoded data removed]",
      "text/plain": [
       "<Figure size 1440x864 with 1 Axes>"
      ]
     },
     "metadata": {},
     "output_type": "display_data"
    }
   ],
   "source": [
    "keys = list(sorted_object_dict.keys())\n",
    "# get values in the same order as keys, and parse percentage values\n",
    "vals = list(sorted_object_dict.values())\n",
    "sns.set(rc = {'figure.figsize':(20,12)})\n",
    "sns.barplot(x=keys, y=vals)"
   ]
  },
  {
   "cell_type": "code",
   "execution_count": null,
   "id": "ca5ba8fb",
   "metadata": {},
   "outputs": [],
   "source": [
    "def label_distribution(json_path):\n",
    "    # open json file\n",
    "    with open(jsons_save_path + json_path) as f:\n",
    "        selectstar_json = json.load(f)\n",
    "    \n",
    "    \n",
    "    # save file\n",
    "    f = open(label_file_path, 'w')\n",
    "    image_w = selectstar_json['images']['width']\n",
    "    image_h = selectstar_json['images']['height']\n",
    "    \n",
    "    # coordinate scaling\n",
    "    for champ_dict in selectstar_json['annotations']:\n",
    "        champion_name = champ_dict['object_class']\n",
    "        \n",
    "        if champion_name not in object_list:\n",
    "            continue\n",
    "            \n",
    "        x = abs((champ_dict['bbox'][0][0] + champ_dict['bbox'][1][0])/2)/image_w\n",
    "        y = abs((champ_dict['bbox'][0][1] + champ_dict['bbox'][1][1])/2)/image_h\n",
    "        w = abs(champ_dict['bbox'][0][0] - champ_dict['bbox'][1][0])/image_w\n",
    "        h = abs(champ_dict['bbox'][0][1] - champ_dict['bbox'][1][1])/image_h\n",
    "#         print(champion_name, x, y ,w, h)\n",
    "        \n",
    "        # champion_name to champion_number\n",
    "        f.write(' '.join(map(str, [object_list.index(champion_name), x, y, w, h])) + '\\n')\n",
    "    f.close()"
   ]
  }
 ],
 "metadata": {
  "kernelspec": {
   "display_name": "Python 3",
   "language": "python",
   "name": "python3"
  },
  "language_info": {
   "codemirror_mode": {
    "name": "ipython",
    "version": 3
   },
   "file_extension": ".py",
   "mimetype": "text/x-python",
   "name": "python",
   "nbconvert_exporter": "python",
   "pygments_lexer": "ipython3",
   "version": "3.6.13"
  }
 },
 "nbformat": 4,
 "nbformat_minor": 5
}
